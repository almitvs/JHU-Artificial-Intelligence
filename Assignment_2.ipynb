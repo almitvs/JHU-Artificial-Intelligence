{
 "cells": [
  {
   "cell_type": "markdown",
   "metadata": {},
   "source": [
    "# Artificial Intelligence\n",
    "# 464\n",
    "# Assignment #2\n",
    "\n",
    "## General Directions for this Assignment\n",
    "\n",
    "00. We're using a Jupyter Notebook environment (tutorial available here: https://jupyter-notebook-beginner-guide.readthedocs.io/en/latest/what_is_jupyter.html),\n",
    "01. Read the entire notebook before beginning your work, \n",
    "02. Output format should be exactly as requested, \n",
    "03. Each helper function should be preceeded by documentation (Markdown cell), \n",
    "04. No comments in the code; anything worth mentioning should be included in the documentation,\n",
    "05. Keep functions to 20 lines or less,\n",
    "06. Use descriptive variable names,\n",
    "07. Functions should do only one thing,\n",
    "08. Check submission deadline on Gradescope, \n",
    "09. Rename the file to Last_First_assignment_2, \n",
    "10. Submit your notebook (as .ipynb, not PDF) using Gradescope, and\n",
    "11. Do not submit any other files.\n",
    "\n",
    "## Before You Submit...\n",
    "\n",
    "1. Re-read the general instructions provided above, and\n",
    "2. Hit \"Kernel\"->\"Restart & Run All\"."
   ]
  },
  {
   "cell_type": "markdown",
   "metadata": {},
   "source": [
    "## The World\n",
    "\n",
    "A `List of Lists` is used to represent the world. Cells marked as '⬛' are obstacles in the world and are not traversable."
   ]
  },
  {
   "cell_type": "code",
   "execution_count": 1,
   "metadata": {},
   "outputs": [],
   "source": [
    "world = [\n",
    "['⬜','⬜','⬜','⬜','⬜','⬜','⬜','⬜','⬜','⬜','⬜','⬜','⬜','⬜','⬜','⬜','⬜','⬜','⬜','⬜','⬜'],\n",
    "['⬜','⬜','⬜','⬜','⬜','⬜','⬜','⬜','⬜','⬜','⬜','⬜','⬜','⬜','⬜','⬜','⬜','⬜','⬜','⬜','⬜'],\n",
    "['⬜','⬜','⬜','⬜','⬜','⬜','⬜','⬜','⬜','⬜','⬜','⬜','⬜','⬜','⬜','⬜','⬜','⬜','⬜','⬜','⬜'],\n",
    "['⬜','⬜','⬜','⬜','⬜','⬜','⬜','⬜','⬜','⬜','⬜','⬜','⬜','⬜','⬜','⬜','⬜','⬜','⬜','⬜','⬜'],\n",
    "['⬜','⬜','⬜','⬜','⬜','⬜','⬜','⬜','⬜','⬜','⬜','⬜','⬜','⬜','⬜','⬜','⬜','⬜','⬜','⬜','⬜'],\n",
    "['⬜','⬜','⬜','⬜','⬜','⬜','⬜','⬜','⬜','⬜','⬜','⬜','⬜','⬜','⬜','⬜','⬜','⬜','⬜','⬜','⬜'],\n",
    "['⬜','⬜','⬜','⬜','⬜','⬜','⬜','⬜','⬜','⬜','⬜','⬜','⬜','⬜','⬜','⬜','⬜','⬜','⬜','⬜','⬜'],\n",
    "['⬜','⬜','⬜','⬜','⬜','⬜','⬜','⬜','⬜','⬜','⬜','⬜','⬜','⬜','⬜','⬜','⬜','⬜','⬜','⬜','⬜'],\n",
    "['⬜','⬜','⬜','⬜','⬜','⬜','⬜','⬜','⬜','⬜','⬜','⬜','⬜','⬜','⬜','⬜','⬜','⬜','⬜','⬜','⬜'],\n",
    "['⬜','⬜','⬜','⬜','⬜','⬜','⬜','⬜','⬜','⬛','⬛','⬛','⬜','⬜','⬜','⬜','⬜','⬜','⬜','⬜','⬜'],\n",
    "['⬜','⬜','⬜','⬜','⬜','⬜','⬜','⬜','⬜','⬛','⬛','⬛','⬜','⬜','⬜','⬜','⬜','⬜','⬜','⬜','⬜'],\n",
    "['⬜','⬜','⬜','⬜','⬜','⬜','⬜','⬜','⬜','⬛','⬛','⬛','⬜','⬜','⬜','⬜','⬜','⬜','⬜','⬜','⬜'],\n",
    "['⬜','⬜','⬜','⬜','⬜','⬜','⬜','⬜','⬜','⬜','⬜','⬜','⬜','⬜','⬜','⬜','⬜','⬜','⬜','⬜','⬜'],\n",
    "['⬜','⬜','⬜','⬜','⬜','⬜','⬜','⬜','⬜','⬜','⬜','⬜','⬜','⬜','⬜','⬜','⬜','⬜','⬜','⬜','⬜'],\n",
    "['⬜','⬜','⬜','⬜','⬜','⬜','⬜','⬜','⬜','⬜','⬜','⬜','⬜','⬜','⬜','⬜','⬜','⬜','⬜','⬜','⬜'],\n",
    "['⬜','⬜','⬜','⬜','⬜','⬜','⬜','⬜','⬜','⬜','⬜','⬜','⬜','⬜','⬜','⬜','⬜','⬜','⬜','⬜','⬜'],\n",
    "['⬜','⬜','⬜','⬜','⬜','⬜','⬜','⬜','⬜','⬜','⬜','⬜','⬜','⬜','⬜','⬜','⬜','⬜','⬜','⬜','⬜'],\n",
    "['⬜','⬜','⬜','⬜','⬜','⬜','⬜','⬜','⬜','⬜','⬜','⬜','⬜','⬜','⬜','⬜','⬜','⬜','⬜','⬜','⬜'],\n",
    "['⬜','⬜','⬜','⬜','⬜','⬜','⬜','⬜','⬜','⬜','⬜','⬜','⬜','⬜','⬜','⬜','⬜','⬜','⬜','⬜','⬜'],\n",
    "['⬜','⬜','⬜','⬜','⬜','⬜','⬜','⬜','⬜','⬜','⬜','⬜','⬜','⬜','⬜','⬜','⬜','⬜','⬜','⬜','⬜'],\n",
    "['⬜','⬜','⬜','⬜','⬜','⬜','⬜','⬜','⬜','⬜','⬜','⬜','⬜','⬜','⬜','⬜','⬜','⬜','⬜','⬜','⬜']]"
   ]
  },
  {
   "cell_type": "code",
   "execution_count": 2,
   "metadata": {},
   "outputs": [
    {
     "name": "stdout",
     "output_type": "stream",
     "text": [
      "⬜⬜⬜⬜⬜⬜⬜⬜⬜⬜⬜⬜⬜⬜⬜⬜⬜⬜⬜⬜⬜\n",
      "⬜⬜⬜⬜⬜⬜⬜⬜⬜⬜⬜⬜⬜⬜⬜⬜⬜⬜⬜⬜⬜\n",
      "⬜⬜⬜⬜⬜⬜⬜⬜⬜⬜⬜⬜⬜⬜⬜⬜⬜⬜⬜⬜⬜\n",
      "⬜⬜⬜⬜⬜⬜⬜⬜⬜⬜⬜⬜⬜⬜⬜⬜⬜⬜⬜⬜⬜\n",
      "⬜⬜⬜⬜⬜⬜⬜⬜⬜⬜⬜⬜⬜⬜⬜⬜⬜⬜⬜⬜⬜\n",
      "⬜⬜⬜⬜⬜⬜⬜⬜⬜⬜⬜⬜⬜⬜⬜⬜⬜⬜⬜⬜⬜\n",
      "⬜⬜⬜⬜⬜⬜⬜⬜⬜⬜⬜⬜⬜⬜⬜⬜⬜⬜⬜⬜⬜\n",
      "⬜⬜⬜⬜⬜⬜⬜⬜⬜⬜⬜⬜⬜⬜⬜⬜⬜⬜⬜⬜⬜\n",
      "⬜⬜⬜⬜⬜⬜⬜⬜⬜⬜⬜⬜⬜⬜⬜⬜⬜⬜⬜⬜⬜\n",
      "⬜⬜⬜⬜⬜⬜⬜⬜⬜⬛⬛⬛⬜⬜⬜⬜⬜⬜⬜⬜⬜\n",
      "⬜⬜⬜⬜⬜⬜⬜⬜⬜⬛⬛⬛⬜⬜⬜⬜⬜⬜⬜⬜⬜\n",
      "⬜⬜⬜⬜⬜⬜⬜⬜⬜⬛⬛⬛⬜⬜⬜⬜⬜⬜⬜⬜⬜\n",
      "⬜⬜⬜⬜⬜⬜⬜⬜⬜⬜⬜⬜⬜⬜⬜⬜⬜⬜⬜⬜⬜\n",
      "⬜⬜⬜⬜⬜⬜⬜⬜⬜⬜⬜⬜⬜⬜⬜⬜⬜⬜⬜⬜⬜\n",
      "⬜⬜⬜⬜⬜⬜⬜⬜⬜⬜⬜⬜⬜⬜⬜⬜⬜⬜⬜⬜⬜\n",
      "⬜⬜⬜⬜⬜⬜⬜⬜⬜⬜⬜⬜⬜⬜⬜⬜⬜⬜⬜⬜⬜\n",
      "⬜⬜⬜⬜⬜⬜⬜⬜⬜⬜⬜⬜⬜⬜⬜⬜⬜⬜⬜⬜⬜\n",
      "⬜⬜⬜⬜⬜⬜⬜⬜⬜⬜⬜⬜⬜⬜⬜⬜⬜⬜⬜⬜⬜\n",
      "⬜⬜⬜⬜⬜⬜⬜⬜⬜⬜⬜⬜⬜⬜⬜⬜⬜⬜⬜⬜⬜\n",
      "⬜⬜⬜⬜⬜⬜⬜⬜⬜⬜⬜⬜⬜⬜⬜⬜⬜⬜⬜⬜⬜\n",
      "⬜⬜⬜⬜⬜⬜⬜⬜⬜⬜⬜⬜⬜⬜⬜⬜⬜⬜⬜⬜⬜\n"
     ]
    }
   ],
   "source": [
    "# A nicer view of the world, without commas and brackets\n",
    "for row in world:\n",
    "    print(\"\".join(row))"
   ]
  },
  {
   "cell_type": "markdown",
   "metadata": {},
   "source": [
    "## Robot\n",
    "\n",
    "Our robot '🤖' starts at the bottom left and can either move up, down, left, or right. It needs to get to the '❤️' in the world. Unlike the previous assignment, the robot now knows where the heart is."
   ]
  },
  {
   "cell_type": "code",
   "execution_count": 3,
   "metadata": {},
   "outputs": [],
   "source": [
    "MOVES = [(0,-1), (1,0), (0,1), (-1,0)]"
   ]
  },
  {
   "cell_type": "code",
   "execution_count": 4,
   "metadata": {},
   "outputs": [],
   "source": [
    "good_start = (len(world)-1, 0)"
   ]
  },
  {
   "cell_type": "code",
   "execution_count": 5,
   "metadata": {},
   "outputs": [],
   "source": [
    "goal = (0, len(world)-1)"
   ]
  },
  {
   "cell_type": "markdown",
   "metadata": {},
   "source": [
    "## Bad Robot\n",
    "\n",
    "And unlike the previous assignment, we have a bad robot '👾', too, that starts at the bottom right and can also move either up, down, left, or right. It wants to zap our robot. The zapper range isn't that great, so our robot is considered zapped if it is anywhere in a 3x3 cell centered at the bad robot."
   ]
  },
  {
   "cell_type": "code",
   "execution_count": 6,
   "metadata": {},
   "outputs": [],
   "source": [
    "bad_start = (len(world)-1, len(world)-1)"
   ]
  },
  {
   "cell_type": "code",
   "execution_count": 7,
   "metadata": {},
   "outputs": [],
   "source": [
    "# Update the world with this information\n",
    "world[good_start[0]][good_start[1]] = '🤖'\n",
    "world[goal[0]][goal[1]] = '❤️'\n",
    "world[bad_start[0]][bad_start[1]] = '👾'"
   ]
  },
  {
   "cell_type": "code",
   "execution_count": 8,
   "metadata": {},
   "outputs": [
    {
     "name": "stdout",
     "output_type": "stream",
     "text": [
      "⬜⬜⬜⬜⬜⬜⬜⬜⬜⬜⬜⬜⬜⬜⬜⬜⬜⬜⬜⬜❤️\n",
      "⬜⬜⬜⬜⬜⬜⬜⬜⬜⬜⬜⬜⬜⬜⬜⬜⬜⬜⬜⬜⬜\n",
      "⬜⬜⬜⬜⬜⬜⬜⬜⬜⬜⬜⬜⬜⬜⬜⬜⬜⬜⬜⬜⬜\n",
      "⬜⬜⬜⬜⬜⬜⬜⬜⬜⬜⬜⬜⬜⬜⬜⬜⬜⬜⬜⬜⬜\n",
      "⬜⬜⬜⬜⬜⬜⬜⬜⬜⬜⬜⬜⬜⬜⬜⬜⬜⬜⬜⬜⬜\n",
      "⬜⬜⬜⬜⬜⬜⬜⬜⬜⬜⬜⬜⬜⬜⬜⬜⬜⬜⬜⬜⬜\n",
      "⬜⬜⬜⬜⬜⬜⬜⬜⬜⬜⬜⬜⬜⬜⬜⬜⬜⬜⬜⬜⬜\n",
      "⬜⬜⬜⬜⬜⬜⬜⬜⬜⬜⬜⬜⬜⬜⬜⬜⬜⬜⬜⬜⬜\n",
      "⬜⬜⬜⬜⬜⬜⬜⬜⬜⬜⬜⬜⬜⬜⬜⬜⬜⬜⬜⬜⬜\n",
      "⬜⬜⬜⬜⬜⬜⬜⬜⬜⬛⬛⬛⬜⬜⬜⬜⬜⬜⬜⬜⬜\n",
      "⬜⬜⬜⬜⬜⬜⬜⬜⬜⬛⬛⬛⬜⬜⬜⬜⬜⬜⬜⬜⬜\n",
      "⬜⬜⬜⬜⬜⬜⬜⬜⬜⬛⬛⬛⬜⬜⬜⬜⬜⬜⬜⬜⬜\n",
      "⬜⬜⬜⬜⬜⬜⬜⬜⬜⬜⬜⬜⬜⬜⬜⬜⬜⬜⬜⬜⬜\n",
      "⬜⬜⬜⬜⬜⬜⬜⬜⬜⬜⬜⬜⬜⬜⬜⬜⬜⬜⬜⬜⬜\n",
      "⬜⬜⬜⬜⬜⬜⬜⬜⬜⬜⬜⬜⬜⬜⬜⬜⬜⬜⬜⬜⬜\n",
      "⬜⬜⬜⬜⬜⬜⬜⬜⬜⬜⬜⬜⬜⬜⬜⬜⬜⬜⬜⬜⬜\n",
      "⬜⬜⬜⬜⬜⬜⬜⬜⬜⬜⬜⬜⬜⬜⬜⬜⬜⬜⬜⬜⬜\n",
      "⬜⬜⬜⬜⬜⬜⬜⬜⬜⬜⬜⬜⬜⬜⬜⬜⬜⬜⬜⬜⬜\n",
      "⬜⬜⬜⬜⬜⬜⬜⬜⬜⬜⬜⬜⬜⬜⬜⬜⬜⬜⬜⬜⬜\n",
      "⬜⬜⬜⬜⬜⬜⬜⬜⬜⬜⬜⬜⬜⬜⬜⬜⬜⬜⬜⬜⬜\n",
      "🤖⬜⬜⬜⬜⬜⬜⬜⬜⬜⬜⬜⬜⬜⬜⬜⬜⬜⬜⬜👾\n"
     ]
    }
   ],
   "source": [
    "# A nicer view of the world, without commas and brackets\n",
    "for row in world:\n",
    "    print(\"\".join(row))"
   ]
  },
  {
   "cell_type": "markdown",
   "metadata": {},
   "source": [
    "## Game\n",
    "\n",
    "* We have two players: our original good robot and the new bad robot '👾'\n",
    "* At each turn of the game, a player gets to move in the world\n",
    "* Players only get to move according to `MOVES`\n",
    "* '⬛' are obstacles that neither robot can traverse\n",
    "* Each player knows the other player's current location\n",
    "* '🤖' wants to get to the '❤️' without being zapped\n",
    "* '👾' is trying to zap '🤖'\n",
    "* '🤖' wins if it gets to the '❤️'\n",
    "* '👾' wins if it zaps the good robot\n",
    "* The game is over when either player wins or we've reached 82 plies (40 good robot moves and 40 bad robot moves)"
   ]
  },
  {
   "cell_type": "markdown",
   "metadata": {},
   "source": [
    "## Adversarial Search\n",
    "\n",
    "\n",
    "The MINIMAX pseudocode is as follows:\n",
    "\n",
    "```\n",
    "MINIMAX(state) returns action\n",
    "    return argmax action in Actions MIN-VALUE(RESULT(state,action))\n",
    "    \n",
    "\n",
    "MAX-VALUE(state) returns value\n",
    "if TERMINAL(state) return UTILITY(state)\n",
    "v <- -inf\n",
    "for each action in Actions(state)\n",
    "    v <- MAX(v, MIN-VALUE(RESULT(state, action))\n",
    "return v\n",
    "\n",
    "\n",
    "MIN-VALUE(state) returns value\n",
    "if TERMINAL(state) return UTILITY(state)\n",
    "v <- +inf\n",
    "for each action in Actions(state)\n",
    "    v <- MIN(v, MAX-VALUE(RESULT(state, action))\n",
    "return v\n",
    "```\n",
    "\n",
    "MINIMAX is used to model the opponent as a rational player that will also try it's best to win. When moves are simulated in the tree, that's just what they are, simulations. The actual board only changes once MINIMAX returns an action. You will probably need to maintain a deep copy of the world. Instead of going all the way to terminal nodes, use a depth parameter."
   ]
  },
  {
   "cell_type": "markdown",
   "metadata": {},
   "source": [
    "## Problem #1\n",
    "\n",
    "\n",
    "Implement the game. This includes: players, actions, scores, keeping track of turns, when the game is over, how the world changes, and what strategy each player uses (random moves or MINIMAX). '🤖' will use MINIMAX with a depth of 2 (simulate I move and then my opponent moves -- that's it); '👾' will choose actions at random. '🤖' utility function values getting to the '❤️' and not being zapped. '👾' utility function values zapping '🤖'. When the game is over, print out the world (nicer view) with the following changes:\n",
    "\n",
    "\n",
    "* Replace a '⬜' with '🟥' to indicate the path of '👾', \n",
    "* Replace '⬜' with '🟩' to indicate the path of '🤖', and\n",
    "* '🤖', '👾', '❤️', and '⬛' are not replaced."
   ]
  },
  {
   "cell_type": "code",
   "execution_count": 9,
   "metadata": {},
   "outputs": [],
   "source": [
    "# Your documentation, code, and tests start here."
   ]
  },
  {
   "cell_type": "code",
   "execution_count": 10,
   "metadata": {},
   "outputs": [],
   "source": [
    "import random\n",
    "import math\n",
    "from copy import deepcopy"
   ]
  },
  {
   "cell_type": "markdown",
   "metadata": {},
   "source": [
    "## minimax\n",
    "\n",
    "This function performs the MINIMAX algorithm for a given depth to determine the best move for a given player.\n",
    "\n",
    "* **world** list of lists: the world in which the game is taking place\n",
    "* **player_pos** tuple: the position of the player within the world\n",
    "* **opp_pos** tuple: the position of the other player within the world\n",
    "* **goal** tuple: the position of the goal\n",
    "* **moves** list of tuples: the possible moves\n",
    "* **depth** int: the depth at which to perform minimax\n",
    "* **player** str: the current player for whom the algorithm is running\n",
    "* **bad_knows_goal** Boolean: whether the bad robot uses knowledge of the goal or not\n",
    "* **ply** int: the current level in the desicion tree\n",
    "\n",
    "\n",
    "**returns** \n",
    "\n",
    "* **best_move** tuple: the best move for the current player"
   ]
  },
  {
   "cell_type": "code",
   "execution_count": 11,
   "metadata": {},
   "outputs": [],
   "source": [
    "def minimax(world, player_pos, opp_pos, goal, moves, depth, player, bad_knows_goal, ply = 0):\n",
    "    best_move = (0, 0)\n",
    "    best_move_val = float('-inf')\n",
    "    for move in moves:\n",
    "        new_player_pos = result(player_pos, move)\n",
    "        new_pos_val = min_value(new_player_pos, opp_pos, goal, depth, ply + 1, world, moves, player, bad_knows_goal)\n",
    "        if (check_valid_pos(new_player_pos, world) and new_pos_val > best_move_val):\n",
    "            best_move_val = new_pos_val\n",
    "            best_move = move\n",
    "    return best_move"
   ]
  },
  {
   "cell_type": "markdown",
   "metadata": {},
   "source": [
    "## result\n",
    "\n",
    "This function updates a position after a given move.\n",
    "\n",
    "* **pos** tuple: the position prior to the move\n",
    "* **move** tuple: the move to make\n",
    "\n",
    "**returns** \n",
    "\n",
    "tuple: the resulting position after the move"
   ]
  },
  {
   "cell_type": "code",
   "execution_count": 12,
   "metadata": {},
   "outputs": [],
   "source": [
    "def result(pos, move):\n",
    "    return (pos[0] + move[0], pos[1] + move[1])"
   ]
  },
  {
   "cell_type": "markdown",
   "metadata": {},
   "source": [
    "## check_valid_pos\n",
    "\n",
    "This function checks if a given position is valid, meaning not off the world or in an obstacle.\n",
    "\n",
    "* **pos** tuple: the position to check\n",
    "* **world** list of lists: the world in which the game is taking place\n",
    "\n",
    "**returns** \n",
    "\n",
    "boolean: whether the position is valid or not"
   ]
  },
  {
   "cell_type": "code",
   "execution_count": 13,
   "metadata": {},
   "outputs": [],
   "source": [
    "def check_valid_pos(pos, world):\n",
    "    if (pos[0] > 20 or pos[0] < 0 or pos[1] > 20 or pos[1] < 0):\n",
    "        return False\n",
    "    if (world[pos[0]][pos[1]] == '⬛'):\n",
    "        return False\n",
    "    else:\n",
    "        return True"
   ]
  },
  {
   "cell_type": "markdown",
   "metadata": {},
   "source": [
    "## min_value\n",
    "\n",
    "This function finds the minimum-rated position, thus the most likely move that the opponent will make\n",
    "\n",
    "\n",
    "* **player_pos** tuple: the position of the player within the world\n",
    "* **opp_pos** tuple: the position of the other player within the world\n",
    "* **goal** tuple: the position of the goal\n",
    "* **depth** int: the depth at which to perform minimax\n",
    "* **ply** int: the current level in the desicion tree\n",
    "* **world** list of lists: the world in which the game is taking place\n",
    "* **moves** list of tuples: the possible moves\n",
    "* **player** str: the current player for whom the algorithm is running\n",
    "* **bad_knows_goal** Boolean: whether the bad robot uses knowledge of the goal or not\n",
    "\n",
    "\n",
    "**returns** \n",
    "\n",
    "* **min_val** float: the score of the position"
   ]
  },
  {
   "cell_type": "code",
   "execution_count": 14,
   "metadata": {},
   "outputs": [],
   "source": [
    "def min_value(player_pos, opp_pos, goal, depth, ply, world, moves, player, bad_knows_goal):\n",
    "    if (check_terminal_state(player_pos, opp_pos, goal, depth, ply, player)):\n",
    "        if (player == \"GOOD\"):\n",
    "            return good_utility(player_pos, opp_pos, goal)\n",
    "        if (player == \"BAD\"):\n",
    "            return bad_utility(player_pos, opp_pos, goal, bad_knows_goal)\n",
    "    min_val = float('inf')\n",
    "    for move in moves:\n",
    "        new_opp_pos = result(opp_pos, move)\n",
    "        if (check_valid_pos(new_opp_pos, world)):\n",
    "            val = max_value(player_pos, new_opp_pos, goal, depth, ply + 1, world, moves, player, bad_knows_goal)\n",
    "            if (val < min_val):\n",
    "                min_val = val\n",
    "    return min_val"
   ]
  },
  {
   "cell_type": "markdown",
   "metadata": {},
   "source": [
    "## max_value\n",
    "\n",
    "This function finds the maximum-rated position, thus the best move the current player should make at that level.\n",
    "\n",
    "\n",
    "* **player_pos** tuple: the position of the player within the world\n",
    "* **opp_pos** tuple: the position of the other player within the world\n",
    "* **goal** tuple: the position of the goal\n",
    "* **depth** int: the depth at which to perform minimax\n",
    "* **ply** int: the current level in the desicion tree\n",
    "* **world** list of lists: the world in which the game is taking place\n",
    "* **moves** list of tuples: the possible moves\n",
    "* **player** str: the current player for whom the algorithm is running\n",
    "* **bad_knows_goal** Boolean: whether the bad robot uses knowledge of the goal or not\n",
    "\n",
    "\n",
    "**returns** \n",
    "\n",
    "* **max_val** float: the score of the position"
   ]
  },
  {
   "cell_type": "code",
   "execution_count": 15,
   "metadata": {},
   "outputs": [],
   "source": [
    "def max_value(player_pos, opp_pos, goal, depth, ply, world, moves, player, bad_knows_goal):\n",
    "    if (check_terminal_state(player_pos, opp_pos, goal, depth, ply, player)):\n",
    "        if (player == \"GOOD\"):\n",
    "            return good_utility(player_pos, opp_pos, goal)\n",
    "        if (player == \"BAD\"):\n",
    "            return bad_utility(player_pos, opp_pos, goal, bad_knows_goal)\n",
    "    max_val = float('-inf')\n",
    "    for move in moves:\n",
    "        new_player_pos = result(player_pos, move)\n",
    "        if (check_valid_pos(player_pos, world)):\n",
    "            val = min_value(new_player_pos, opp_pos, goal, depth, ply + 1, world, moves, player, bad_knows_goal)\n",
    "            if (val > max_val):\n",
    "                max_val = val\n",
    "    return max_val"
   ]
  },
  {
   "cell_type": "markdown",
   "metadata": {},
   "source": [
    "## check_terminal_state\n",
    "\n",
    "This function determines whether a given node is terminal or not because the depth was reach or the game would end.\n",
    "\n",
    "\n",
    "* **player_pos** tuple: the position of the player within the world\n",
    "* **opp_pos** tuple: the position of the other player within the world\n",
    "* **goal** tuple: the position of the goal\n",
    "* **depth** int: the depth at which to perform minimax\n",
    "* **ply** int: the current level in the desicion tree\n",
    "* **player** str: the current player for whom the algorithm is running\n",
    "\n",
    "\n",
    "**returns** \n",
    "\n",
    "boolean: whether the node is terminal or not"
   ]
  },
  {
   "cell_type": "code",
   "execution_count": 16,
   "metadata": {},
   "outputs": [],
   "source": [
    "def check_terminal_state(player_pos, opp_pos, goal, depth, ply, player):\n",
    "    if (ply == depth):\n",
    "        return True\n",
    "    \n",
    "    return check_game_over(player_pos, opp_pos, goal, player)"
   ]
  },
  {
   "cell_type": "markdown",
   "metadata": {},
   "source": [
    "## good_utility\n",
    "\n",
    "This function scores positions based on the goals of the good robot.\n",
    "\n",
    "\n",
    "* **player_pos** tuple: the position of the player within the world\n",
    "* **opp_pos** tuple: the position of the other player within the world\n",
    "* **goal** tuple: the position of the goal\n",
    "\n",
    "\n",
    "**returns** \n",
    "\n",
    "float: the rating of a given position"
   ]
  },
  {
   "cell_type": "code",
   "execution_count": 17,
   "metadata": {},
   "outputs": [],
   "source": [
    "def good_utility(player_pos, opp_pos, goal):\n",
    "    max_dist = math.dist((20, 0), (0, 20))\n",
    "    return math.dist(player_pos, opp_pos) + max_dist - math.dist(player_pos, goal)"
   ]
  },
  {
   "cell_type": "markdown",
   "metadata": {},
   "source": [
    "## bad_utility\n",
    "\n",
    "This function scores positions based on the goals of the bad robot and what knowledge it has.\n",
    "\n",
    "\n",
    "* **player_pos** tuple: the position of the player within the world\n",
    "* **opp_pos** tuple: the position of the other player within the world\n",
    "* **goal** tuple: the position of the goal\n",
    "* **bad_knows_goal** boolean: whether the bad robot takes into account the good robot's goal or not\n",
    "\n",
    "\n",
    "**returns** \n",
    "\n",
    "float: the rating of a given position"
   ]
  },
  {
   "cell_type": "code",
   "execution_count": 18,
   "metadata": {},
   "outputs": [],
   "source": [
    "def bad_utility(player_pos, opp_pos, goal, bad_knows_goal):\n",
    "    max_dist = math.dist((20, 0), (0, 20))\n",
    "    if (bad_knows_goal):\n",
    "        return 2 * max_dist - math.dist(player_pos, opp_pos) - math.dist(player_pos, goal)\n",
    "    else:\n",
    "        return max_dist - math.dist(player_pos, opp_pos)"
   ]
  },
  {
   "cell_type": "markdown",
   "metadata": {},
   "source": [
    "## pick_random_move\n",
    "\n",
    "This function chooses a move at random if it is a valid move.\n",
    "\n",
    "* **pos** tuple: the position of the player within the world\n",
    "* **moves** list of tuples: the possible moves\n",
    "* **world** list of lists: the world in which the game is taking place\n",
    "\n",
    "**returns** \n",
    "\n",
    "* **move** tuple: the move"
   ]
  },
  {
   "cell_type": "code",
   "execution_count": 19,
   "metadata": {},
   "outputs": [],
   "source": [
    "def pick_random_move(pos, moves, world):\n",
    "    found_valid_move = False\n",
    "    move = (0, 0)\n",
    "    while (found_valid_move == False):\n",
    "        move = moves[random.randint(0, len(moves) - 1)]\n",
    "        if (check_valid_pos(result(pos, move), world)):\n",
    "            found_valid_move = True\n",
    "    return move"
   ]
  },
  {
   "cell_type": "markdown",
   "metadata": {},
   "source": [
    "## print_game\n",
    "\n",
    "This function prints the world in which the game was played\n",
    "\n",
    "* **world** list of lists: the world in which the game is taking place\n",
    "\n",
    "**returns** \n",
    "\n",
    "None"
   ]
  },
  {
   "cell_type": "code",
   "execution_count": 20,
   "metadata": {},
   "outputs": [],
   "source": [
    "def print_game(world):\n",
    "    for row in world:\n",
    "        print(\"\".join(row))"
   ]
  },
  {
   "cell_type": "markdown",
   "metadata": {},
   "source": [
    "## take_turn\n",
    "\n",
    "This function simulates the turn of a given player based on their strategy, either calling minimax or random.\n",
    "\n",
    "* **world** list of lists: the world in which the game is taking place\n",
    "* **player_pos** tuple: the position of the player within the world\n",
    "* **opp_pos** tuple: the position of the other player within the world\n",
    "* **goal** tuple: the position of the goal\n",
    "* **moves** list of tuples: the possible moves\n",
    "* **strategy** the strategy the current player uses\n",
    "* **depth** int: the depth at which to perform minimax\n",
    "* **player** str: the current player for whom the algorithm is running\n",
    "* **bad_knows_goal** Boolean: whether the bad robot uses knowledge of the goal or not\n",
    "\n",
    "\n",
    "**returns** \n",
    "\n",
    "tuple: the player's new position after moving"
   ]
  },
  {
   "cell_type": "code",
   "execution_count": 21,
   "metadata": {},
   "outputs": [],
   "source": [
    "def take_turn(world, player_pos, opp_pos, goal, moves, strategy, depth, player, bad_knows_goal):\n",
    "    if (strategy == \"MINIMAX\"):\n",
    "        return result(player_pos, minimax(world, player_pos, opp_pos, goal, moves, depth, player, bad_knows_goal))\n",
    "    if (strategy == \"RANDOM\"):\n",
    "        return result(player_pos, pick_random_move(player_pos, moves, world))"
   ]
  },
  {
   "cell_type": "markdown",
   "metadata": {},
   "source": [
    "## check_game_over\n",
    "\n",
    "This function determines if the game has ended because the good robot has reached the goal or the bad robot has reached the good robot\n",
    "\n",
    "\n",
    "* **player_pos** tuple: the position of the player within the world\n",
    "* **opp_pos** tuple: the position of the other player within the world\n",
    "* **goal** tuple: the position of the goal\n",
    "* **player** str: the current player for whom the algorithm is running\n",
    "\n",
    "\n",
    "**returns** \n",
    "\n",
    "boolean: whether the games is over or not"
   ]
  },
  {
   "cell_type": "code",
   "execution_count": 22,
   "metadata": {},
   "outputs": [],
   "source": [
    "def check_game_over(player_pos, opp_pos, goal, player):\n",
    "    if (player == \"GOOD\"):\n",
    "        good_pos = player_pos\n",
    "        bad_pos = opp_pos\n",
    "        \n",
    "    if (player == \"BAD\"):\n",
    "        good_pos = opp_pos\n",
    "        bad_pos = player_pos\n",
    "    \n",
    "    if (good_pos == goal):\n",
    "        return True\n",
    "    bad_range = [(0, 0), (0, -1), (1, -1), (1, 0), (1, 1), (0, 1), (-1, 1), (-1, 0), (-1, -1)]\n",
    "    for pos in bad_range:\n",
    "        if (good_pos == result(bad_pos, pos)):\n",
    "            return True\n",
    "        \n",
    "    return False"
   ]
  },
  {
   "cell_type": "markdown",
   "metadata": {},
   "source": [
    "## update_board\n",
    "\n",
    "This function updates the board to mark the new position of the player\n",
    "\n",
    "* **player** str: the current player for whom the algorithm is running\n",
    "* **pos** tuple: the position of the other player within the world\n",
    "* **board** list of list: the world in which the game is played\n",
    "\n",
    "\n",
    "**returns** \n",
    "\n",
    "None"
   ]
  },
  {
   "cell_type": "code",
   "execution_count": 23,
   "metadata": {},
   "outputs": [],
   "source": [
    "def update_board(player, pos, board):\n",
    "    tile = board[pos[0]][pos[1]]\n",
    "    if (tile != '🤖' and tile != '👾' and tile != '❤️' and tile != '⬛'):\n",
    "        if (player == \"GOOD\"):                \n",
    "            board[pos[0]][pos[1]] = '🟩'\n",
    "        if (player == \"BAD\"):\n",
    "            board[pos[0]][pos[1]] = '🟥'\n",
    "    return"
   ]
  },
  {
   "cell_type": "markdown",
   "metadata": {},
   "source": [
    "<a id=\"breadth_first_search\"></a>\n",
    "## run_robot_game\n",
    "\n",
    "This function runs the robot game until a robot wins or the maximum number of moves was reached and then it prints a view of the board.\n",
    "\n",
    "* **world** List[List[str]]: the search area\n",
    "* **good_start** Tuple[int, int]: the starting location of the good robot\n",
    "* **bad_start** Tuple[int, int]: the starting location of the bad robot\n",
    "* **goal** Tuple[int, int]: the goal location in the world\n",
    "* **moves** List[Tuple[int, int]]: the allowable moves in the world\n",
    "* **good_strategy** str: name of strategy to use for good robot: either random_strategy or MINIMAX with option to set depth\n",
    "* **bad_strategy** str: name of strategy to use for bad robot: either random_strategy or MINIMAX with option to set depth\n",
    "\n",
    "\n",
    "**returns** None (but prints out a nice view of the world and replaces appropriate cells)."
   ]
  },
  {
   "cell_type": "code",
   "execution_count": 24,
   "metadata": {},
   "outputs": [],
   "source": [
    "def run_robot_game(world, good_start, bad_start, goal, moves, good_strategy, bad_strategy, good_depth = 2, bad_depth = 2, bad_knows_goal = False): # Amend argument list and description above as you see fit\n",
    "    game_board = deepcopy(world)\n",
    "    game_over = False\n",
    "    player = \"GOOD\"\n",
    "    good_pos = good_start\n",
    "    bad_pos = bad_start\n",
    "    num_moves = 0;\n",
    "    while (game_over == False):\n",
    "        if (player == \"GOOD\"):\n",
    "            good_pos = take_turn(world, good_pos, bad_pos, goal, moves, good_strategy, good_depth, player, bad_knows_goal)\n",
    "            update_board(player, good_pos, game_board)\n",
    "            player = \"BAD\"\n",
    "            game_over = num_moves + 1== 82 or check_game_over(bad_pos, good_pos, goal, player)\n",
    "        else:\n",
    "            bad_pos = take_turn(world, bad_pos, good_pos, goal, moves, bad_strategy, bad_depth, player, bad_knows_goal)\n",
    "            update_board(player, bad_pos, game_board)\n",
    "            player = \"GOOD\"\n",
    "            game_over = num_moves + 1== 82 or check_game_over(good_pos, bad_pos, goal, player)\n",
    "        num_moves += 1\n",
    "    return print_game(game_board)"
   ]
  },
  {
   "cell_type": "code",
   "execution_count": 25,
   "metadata": {},
   "outputs": [
    {
     "name": "stdout",
     "output_type": "stream",
     "text": [
      "🟩🟩🟩🟩🟩🟩🟩🟩🟩🟩🟩🟩🟩🟩🟩🟩🟩🟩🟩🟩❤️\n",
      "🟩⬜⬜⬜⬜⬜⬜⬜⬜⬜⬜⬜⬜⬜⬜⬜⬜⬜⬜⬜⬜\n",
      "🟩⬜⬜⬜⬜⬜⬜⬜⬜⬜⬜⬜⬜⬜⬜⬜⬜⬜⬜⬜⬜\n",
      "🟩⬜⬜⬜⬜⬜⬜⬜⬜⬜⬜⬜⬜⬜⬜⬜⬜⬜⬜⬜⬜\n",
      "🟩⬜⬜⬜⬜⬜⬜⬜⬜⬜⬜⬜⬜⬜⬜⬜⬜⬜⬜⬜⬜\n",
      "🟩⬜⬜⬜⬜⬜⬜⬜⬜⬜⬜⬜⬜⬜⬜⬜⬜⬜⬜⬜⬜\n",
      "🟩⬜⬜⬜⬜⬜⬜⬜⬜⬜⬜⬜⬜⬜⬜⬜⬜⬜⬜⬜⬜\n",
      "🟩⬜⬜⬜⬜⬜⬜⬜⬜⬜⬜⬜⬜⬜⬜⬜⬜⬜⬜⬜⬜\n",
      "🟩⬜⬜⬜⬜⬜⬜⬜⬜⬜⬜⬜⬜⬜⬜⬜⬜⬜⬜⬜⬜\n",
      "🟩⬜⬜⬜⬜⬜⬜⬜⬜⬛⬛⬛⬜⬜⬜⬜⬜⬜⬜⬜⬜\n",
      "🟩⬜⬜⬜⬜⬜⬜⬜⬜⬛⬛⬛⬜⬜⬜⬜⬜⬜⬜⬜⬜\n",
      "🟩⬜⬜⬜⬜⬜⬜⬜⬜⬛⬛⬛⬜⬜⬜⬜⬜⬜⬜⬜⬜\n",
      "🟩⬜⬜⬜⬜⬜⬜⬜⬜⬜⬜⬜⬜⬜⬜⬜⬜⬜⬜⬜⬜\n",
      "🟩⬜⬜⬜⬜⬜⬜⬜⬜⬜⬜⬜⬜⬜⬜⬜⬜⬜⬜⬜⬜\n",
      "🟩⬜⬜⬜⬜⬜⬜⬜⬜⬜⬜⬜⬜⬜⬜⬜⬜⬜⬜⬜⬜\n",
      "🟩⬜⬜⬜⬜⬜⬜⬜⬜⬜⬜⬜⬜🟥🟥⬜⬜⬜⬜⬜⬜\n",
      "🟩⬜⬜⬜⬜⬜⬜⬜⬜⬜⬜🟥🟥🟥🟥⬜⬜⬜⬜⬜⬜\n",
      "🟩⬜⬜⬜⬜⬜⬜⬜⬜⬜⬜🟥⬜🟥🟥🟥⬜⬜⬜⬜⬜\n",
      "🟩⬜⬜⬜⬜⬜⬜🟥🟥🟥🟥🟥⬜⬜🟥🟥⬜⬜⬜⬜⬜\n",
      "🟩⬜⬜⬜⬜⬜🟥🟥⬜⬜⬜⬜⬜⬜🟥🟥⬜🟥🟥🟥⬜\n",
      "🤖⬜⬜⬜⬜🟥🟥🟥⬜⬜⬜⬜⬜⬜⬜🟥🟥🟥⬜🟥👾\n"
     ]
    }
   ],
   "source": [
    "# Modify arguments, but when you uncomment the line below, it should ONLY print out a nice view of the world when the game is over\n",
    "\n",
    "result_1 = run_robot_game(world, good_start, bad_start, goal, MOVES, \"MINIMAX\", \"RANDOM\", 2, 0)"
   ]
  },
  {
   "cell_type": "markdown",
   "metadata": {},
   "source": [
    "## Problem #2\n",
    "\n",
    "\n",
    "Play a game where '🤖' and '👾' both use MINIMAX with a depth of 2. '🤖' utility function values getting to the '❤️' and not being zapped. '👾' utility function values zapping '🤖'. When the game is over, print out the world (nicer view) with the following changes:\n",
    "\n",
    "\n",
    "* Replace a '⬜' with '🟥' to indicate the path of '👾', \n",
    "* Replace '⬜' with '🟩' to indicate the path found by '🤖', and\n",
    "* '🤖', '👾', '❤️', and '⬛' are not replaced."
   ]
  },
  {
   "cell_type": "code",
   "execution_count": 26,
   "metadata": {},
   "outputs": [
    {
     "name": "stdout",
     "output_type": "stream",
     "text": [
      "🟩🟩🟩🟩🟩🟩🟩🟩🟩🟩🟩🟩🟩🟩🟩🟩🟩🟩🟩🟩❤️\n",
      "🟩⬜⬜⬜⬜⬜⬜⬜⬜⬜⬜⬜⬜⬜⬜⬜⬜⬜⬜⬜⬜\n",
      "🟩⬜⬜⬜⬜⬜⬜⬜⬜⬜⬜⬜⬜⬜⬜⬜⬜⬜⬜⬜⬜\n",
      "🟩⬜⬜⬜⬜⬜⬜⬜🟥🟥🟥🟥🟥🟥🟥🟥🟥🟥🟥⬜⬜\n",
      "🟩⬜⬜⬜⬜⬜⬜⬜🟥⬜⬜⬜⬜⬜⬜⬜⬜⬜⬜⬜⬜\n",
      "🟩⬜⬜⬜⬜⬜⬜⬜🟥⬜⬜⬜⬜⬜⬜⬜⬜⬜⬜⬜⬜\n",
      "🟩⬜⬜⬜⬜⬜⬜⬜🟥⬜⬜⬜⬜⬜⬜⬜⬜⬜⬜⬜⬜\n",
      "🟩⬜⬜⬜⬜⬜⬜⬜🟥⬜⬜⬜⬜⬜⬜⬜⬜⬜⬜⬜⬜\n",
      "🟩⬜⬜⬜⬜⬜⬜⬜🟥⬜⬜⬜⬜⬜⬜⬜⬜⬜⬜⬜⬜\n",
      "🟩⬜⬜⬜⬜⬜⬜⬜🟥⬛⬛⬛⬜⬜⬜⬜⬜⬜⬜⬜⬜\n",
      "🟩⬜⬜⬜⬜⬜⬜⬜🟥⬛⬛⬛⬜⬜⬜⬜⬜⬜⬜⬜⬜\n",
      "🟩⬜⬜⬜⬜⬜⬜⬜🟥⬛⬛⬛⬜⬜⬜⬜⬜⬜⬜⬜⬜\n",
      "🟩⬜⬜⬜⬜⬜⬜⬜🟥🟥🟥⬜⬜⬜⬜⬜⬜⬜⬜⬜⬜\n",
      "🟩⬜⬜⬜⬜⬜⬜⬜⬜⬜🟥⬜⬜⬜⬜⬜⬜⬜⬜⬜⬜\n",
      "🟩⬜⬜⬜⬜⬜⬜⬜⬜⬜🟥⬜⬜⬜⬜⬜⬜⬜⬜⬜⬜\n",
      "🟩⬜⬜⬜⬜⬜⬜⬜⬜⬜🟥⬜⬜⬜⬜⬜⬜⬜⬜⬜⬜\n",
      "🟩⬜⬜⬜⬜⬜⬜⬜⬜⬜🟥⬜⬜⬜⬜⬜⬜⬜⬜⬜⬜\n",
      "🟩⬜⬜⬜⬜⬜⬜⬜⬜⬜🟥⬜⬜⬜⬜⬜⬜⬜⬜⬜⬜\n",
      "🟩⬜⬜⬜⬜⬜⬜⬜⬜⬜🟥⬜⬜⬜⬜⬜⬜⬜⬜⬜⬜\n",
      "🟩⬜⬜⬜⬜⬜⬜⬜⬜⬜🟥⬜⬜⬜⬜⬜⬜⬜⬜⬜⬜\n",
      "🤖⬜⬜⬜⬜⬜⬜⬜⬜⬜🟥🟥🟥🟥🟥🟥🟥🟥🟥🟥👾\n"
     ]
    }
   ],
   "source": [
    "# Modify arguments, but when you uncomment the line below, it should ONLY print out a nice view of the world when the game is over\n",
    "\n",
    "result_2 = run_robot_game(world, good_start, bad_start, goal, MOVES, \"MINIMAX\", \"MINIMAX\", 2, 2)"
   ]
  },
  {
   "cell_type": "markdown",
   "metadata": {},
   "source": [
    "## Problem #3\n",
    "\n",
    "\n",
    "Play a game where '🤖' uses MINIMAX with depth 2; '👾' uses MINIMAX with depth 6. '🤖' utility function values getting to the '❤️' and not being zapped. '👾' utility function values zapping '🤖'. When the game is over, print out the world (nicer view) with the following changes:\n",
    "\n",
    "\n",
    "* Replace a '⬜' with '🟥' to indicate the path of '👾', \n",
    "* Replace '⬜' with '🟩' to indicate the path taken by '🤖', and\n",
    "* '🤖', '👾', '❤️', and '⬛' are not replaced."
   ]
  },
  {
   "cell_type": "code",
   "execution_count": 27,
   "metadata": {},
   "outputs": [
    {
     "name": "stdout",
     "output_type": "stream",
     "text": [
      "🟩🟩🟩🟩🟩🟩🟩🟩🟩🟩🟩🟩🟩🟩🟩🟩🟩🟩🟩🟩❤️\n",
      "🟩⬜⬜⬜⬜⬜⬜⬜⬜⬜⬜⬜⬜⬜⬜⬜⬜⬜⬜⬜⬜\n",
      "🟩⬜⬜⬜⬜⬜⬜⬜⬜⬜⬜⬜⬜⬜⬜⬜⬜⬜⬜⬜⬜\n",
      "🟩⬜⬜⬜⬜⬜⬜⬜⬜⬜⬜⬜⬜⬜⬜⬜⬜⬜⬜⬜⬜\n",
      "🟩⬜⬜⬜⬜⬜⬜⬜⬜⬜⬜⬜⬜⬜⬜⬜⬜🟥⬜⬜⬜\n",
      "🟩⬜⬜⬜⬜⬜⬜⬜⬜⬜⬜⬜⬜⬜⬜⬜⬜🟥⬜⬜⬜\n",
      "🟩⬜⬜⬜⬜⬜⬜🟥🟥🟥🟥🟥🟥🟥🟥🟥🟥🟥⬜⬜⬜\n",
      "🟩⬜⬜⬜⬜⬜⬜🟥⬜⬜⬜⬜⬜⬜⬜⬜⬜⬜⬜⬜⬜\n",
      "🟩⬜⬜⬜⬜⬜⬜🟥⬜⬜⬜⬜⬜⬜⬜⬜⬜⬜⬜⬜⬜\n",
      "🟩⬜⬜⬜⬜⬜⬜🟥⬜⬛⬛⬛⬜⬜⬜⬜⬜⬜⬜⬜⬜\n",
      "🟩⬜⬜⬜⬜⬜⬜🟥🟥⬛⬛⬛⬜⬜⬜⬜⬜⬜⬜⬜⬜\n",
      "🟩⬜⬜⬜⬜⬜⬜⬜🟥⬛⬛⬛⬜⬜⬜⬜⬜⬜⬜⬜⬜\n",
      "🟩⬜⬜⬜⬜⬜⬜⬜🟥⬜⬜⬜⬜⬜⬜⬜⬜⬜⬜⬜⬜\n",
      "🟩⬜⬜⬜⬜⬜⬜⬜🟥🟥🟥⬜⬜⬜⬜⬜⬜⬜⬜⬜⬜\n",
      "🟩⬜⬜⬜⬜⬜⬜⬜⬜⬜🟥⬜⬜⬜⬜⬜⬜⬜⬜⬜⬜\n",
      "🟩⬜⬜⬜⬜⬜⬜⬜⬜⬜🟥⬜⬜⬜⬜⬜⬜⬜⬜⬜⬜\n",
      "🟩⬜⬜⬜⬜⬜⬜⬜⬜⬜🟥⬜⬜⬜⬜⬜⬜⬜⬜⬜⬜\n",
      "🟩⬜⬜⬜⬜⬜⬜⬜⬜⬜🟥⬜⬜⬜⬜⬜⬜⬜⬜⬜⬜\n",
      "🟩⬜⬜⬜⬜⬜⬜⬜⬜⬜🟥⬜⬜⬜⬜⬜⬜⬜⬜⬜⬜\n",
      "🟩⬜⬜⬜⬜⬜⬜⬜⬜⬜🟥⬜⬜⬜⬜⬜⬜⬜⬜⬜⬜\n",
      "🤖⬜⬜⬜⬜⬜⬜⬜⬜⬜🟥🟥🟥🟥🟥🟥🟥🟥🟥🟥👾\n"
     ]
    }
   ],
   "source": [
    "# Add your arguments, but when you uncomment the line below, it should ONLY print out a nice view of the world when the game is over\n",
    "\n",
    "result_3 = run_robot_game(world, good_start, bad_start, goal, MOVES, \"MINIMAX\", \"MINIMAX\", 2, 6)"
   ]
  },
  {
   "cell_type": "markdown",
   "metadata": {},
   "source": [
    "## Problem #4\n",
    "\n",
    "\n",
    "Play a game where '🤖' and '👾' both use MINIMAX with depth of 2. '🤖' utility function values getting to the '❤️' and not being zapped. '👾' utility function values zapping '🤖' and knowledge that '🤖' is trying to get to '❤️'. When the game is over, print out the world (nicer view) with the following changes:\n",
    "\n",
    "\n",
    "* Replace a '⬜' with '🟥' to indicate the path of '👾', \n",
    "* Replace '⬜' with '🟩' to indicate the path found by '🤖', and\n",
    "* '🤖', '👾', '❤️', and '⬛' are not replaced."
   ]
  },
  {
   "cell_type": "code",
   "execution_count": 28,
   "metadata": {},
   "outputs": [
    {
     "name": "stdout",
     "output_type": "stream",
     "text": [
      "🟩🟩🟩🟩🟩🟩🟩🟩🟩🟩🟩⬜⬜⬜⬜⬜⬜⬜⬜⬜❤️\n",
      "🟩⬜⬜⬜⬜⬜⬜⬜⬜⬜⬜🟥🟥🟥🟥🟥🟥🟥🟥🟥🟥\n",
      "🟩⬜⬜⬜⬜⬜⬜⬜⬜⬜⬜⬜⬜⬜⬜⬜⬜⬜⬜🟥⬜\n",
      "🟩⬜⬜⬜⬜⬜⬜⬜⬜⬜⬜⬜⬜⬜⬜⬜⬜⬜⬜🟥⬜\n",
      "🟩⬜⬜⬜⬜⬜⬜⬜⬜⬜⬜⬜⬜⬜⬜⬜⬜⬜⬜🟥⬜\n",
      "🟩⬜⬜⬜⬜⬜⬜⬜⬜⬜⬜⬜⬜⬜⬜⬜⬜⬜⬜🟥⬜\n",
      "🟩⬜⬜⬜⬜⬜⬜⬜⬜⬜⬜⬜⬜⬜⬜⬜⬜⬜⬜🟥⬜\n",
      "🟩⬜⬜⬜⬜⬜⬜⬜⬜⬜⬜⬜⬜⬜⬜⬜⬜⬜⬜🟥⬜\n",
      "🟩⬜⬜⬜⬜⬜⬜⬜⬜⬜⬜⬜⬜⬜⬜⬜⬜⬜⬜🟥⬜\n",
      "🟩⬜⬜⬜⬜⬜⬜⬜⬜⬛⬛⬛⬜⬜⬜⬜⬜⬜⬜🟥⬜\n",
      "🟩⬜⬜⬜⬜⬜⬜⬜⬜⬛⬛⬛⬜⬜⬜⬜⬜⬜⬜🟥⬜\n",
      "🟩⬜⬜⬜⬜⬜⬜⬜⬜⬛⬛⬛⬜⬜⬜⬜⬜⬜⬜🟥⬜\n",
      "🟩⬜⬜⬜⬜⬜⬜⬜⬜⬜⬜⬜⬜⬜⬜⬜⬜⬜⬜🟥⬜\n",
      "🟩⬜⬜⬜⬜⬜⬜⬜⬜⬜⬜⬜⬜⬜⬜⬜⬜⬜⬜🟥⬜\n",
      "🟩⬜⬜⬜⬜⬜⬜⬜⬜⬜⬜⬜⬜⬜⬜⬜⬜⬜⬜🟥⬜\n",
      "🟩⬜⬜⬜⬜⬜⬜⬜⬜⬜⬜⬜⬜⬜⬜⬜⬜⬜⬜🟥⬜\n",
      "🟩⬜⬜⬜⬜⬜⬜⬜⬜⬜⬜⬜⬜⬜⬜⬜⬜⬜⬜🟥⬜\n",
      "🟩⬜⬜⬜⬜⬜⬜⬜⬜⬜⬜⬜⬜⬜⬜⬜⬜⬜⬜🟥⬜\n",
      "🟩⬜⬜⬜⬜⬜⬜⬜⬜⬜⬜⬜⬜⬜⬜⬜⬜⬜⬜🟥⬜\n",
      "🟩⬜⬜⬜⬜⬜⬜⬜⬜⬜⬜⬜⬜⬜⬜⬜⬜⬜⬜🟥🟥\n",
      "🤖⬜⬜⬜⬜⬜⬜⬜⬜⬜⬜⬜⬜⬜⬜⬜⬜⬜⬜⬜👾\n"
     ]
    }
   ],
   "source": [
    "# Add your arguments, but this should ONLY print out a nice view of the world\n",
    "result_4 = run_robot_game(world, good_start, bad_start, goal, MOVES, \"MINIMAX\", \"MINIMAX\", 4, 4, True)"
   ]
  },
  {
   "cell_type": "markdown",
   "metadata": {},
   "source": [
    "| Question | Comment | \n",
    "|------|------|\n",
    "|Did knowledge of '🤖' trying to get to '❤️' help '👾'? | No, unfortunately for the bad robot knowledge of the good robot's quest to reach the goal did not help. The game timed out and ended as the maximum number of moves was reached. Because the bad robot was trying to approach (\"puppyguard\") the goal and touch the good robot but the good robot was trying to avoid it they became locked in a stalement going up and down the board. This is because of how their utility functions weighted their prerogatives.|"
   ]
  },
  {
   "cell_type": "markdown",
   "metadata": {},
   "source": [
    "## Before You Submit...\n",
    "\n",
    "1. Re-read the general instructions provided above, and\n",
    "2. Hit \"Kernel\"->\"Restart & Run All\"."
   ]
  }
 ],
 "metadata": {
  "kernelspec": {
   "display_name": "Python 3 (ipykernel)",
   "language": "python",
   "name": "python3"
  },
  "language_info": {
   "codemirror_mode": {
    "name": "ipython",
    "version": 3
   },
   "file_extension": ".py",
   "mimetype": "text/x-python",
   "name": "python",
   "nbconvert_exporter": "python",
   "pygments_lexer": "ipython3",
   "version": "3.11.5"
  },
  "toc": {
   "colors": {
    "hover_highlight": "#DAA520",
    "navigate_num": "#000000",
    "navigate_text": "#333333",
    "running_highlight": "#FF0000",
    "selected_highlight": "#FFD700",
    "sidebar_border": "#EEEEEE",
    "wrapper_background": "#FFFFFF"
   },
   "moveMenuLeft": true,
   "nav_menu": {
    "height": "192px",
    "width": "252px"
   },
   "navigate_menu": true,
   "number_sections": true,
   "sideBar": true,
   "threshold": 4,
   "toc_cell": false,
   "toc_section_display": "block",
   "toc_window_display": false,
   "widenNotebook": false
  }
 },
 "nbformat": 4,
 "nbformat_minor": 4
}
